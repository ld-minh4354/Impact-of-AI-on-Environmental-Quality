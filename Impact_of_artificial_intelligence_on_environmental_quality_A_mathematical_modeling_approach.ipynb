{
  "nbformat": 4,
  "nbformat_minor": 0,
  "metadata": {
    "colab": {
      "provenance": [],
      "collapsed_sections": [
        "I1GyDZ_3ZFrt"
      ],
      "include_colab_link": true
    },
    "kernelspec": {
      "name": "python3",
      "display_name": "Python 3"
    },
    "language_info": {
      "name": "python"
    }
  },
  "cells": [
    {
      "cell_type": "markdown",
      "metadata": {
        "id": "view-in-github",
        "colab_type": "text"
      },
      "source": [
        "<a href=\"https://colab.research.google.com/github/ld-minh4354/Impact-of-AI-on-Environmental-Quality/blob/main/Impact_of_artificial_intelligence_on_environmental_quality_A_mathematical_modeling_approach.ipynb\" target=\"_parent\"><img src=\"https://colab.research.google.com/assets/colab-badge.svg\" alt=\"Open In Colab\"/></a>"
      ]
    },
    {
      "cell_type": "markdown",
      "source": [
        "# Set-ups"
      ],
      "metadata": {
        "id": "klNyKC9fYpXy"
      }
    },
    {
      "cell_type": "code",
      "source": [
        "# Importing relevant Python packages\n",
        "import math\n",
        "import sympy as sym\n",
        "from scipy.optimize import fsolve, bisect\n",
        "import matplotlib.pyplot as plt"
      ],
      "metadata": {
        "id": "T19aBM5lUtFm"
      },
      "execution_count": null,
      "outputs": []
    },
    {
      "cell_type": "code",
      "execution_count": null,
      "metadata": {
        "id": "fYeD70UDzS6a"
      },
      "outputs": [],
      "source": [
        "# Simulation constants\n",
        "period_length = 5\n",
        "\n",
        "# Economy constants\n",
        "sigma = 10\n",
        "alpha = 1/3\n",
        "psi = alpha ** 2\n",
        "phi = (1 - alpha) * (1 - sigma)\n",
        "Y_c0 = 307.77\n",
        "Y_d0 = 1893.25\n",
        "\n",
        "# Calculating A_c0 and A_d0\n",
        "r = (Y_c0 / Y_d0) ** (1 / (alpha + phi -1))\n",
        "A_c0 = (alpha ** 2 / psi) ** (alpha / (1-alpha)) * (1 + r ** (-phi)) ** (-(alpha + phi) / phi) * Y_c0\n",
        "A_d0 = r * A_c0\n",
        "\n",
        "# Innovation constants\n",
        "gamma = 0.04\n",
        "eta_c = eta_d = 0.5 * period_length\n",
        "\n",
        "# Environment constants\n",
        "temp_disaster = 6\n",
        "emission_0 = 17.48251782\n",
        "S_bar = 280 * (2 ** (temp_disaster / 3) - 1)\n",
        "S_0 = S_bar - 99\n",
        "delta = 0.5 * emission_0 / S_0\n",
        "xi = emission_0 / Y_d0\n",
        "CO2_disaster = 1120"
      ]
    },
    {
      "cell_type": "markdown",
      "source": [
        "# Simulation Code - Helper Functions"
      ],
      "metadata": {
        "id": "sPJzFpOGZAza"
      }
    },
    {
      "cell_type": "code",
      "source": [
        "# This calculates the ratio of expected profit for researchers in the new and old sectors. See Lemma 8.\n",
        "def scientist_allocation_equilibrium(s_c, A_c, A_d, t, k):\n",
        "    I_ct = math.e ** (3 * k * t)\n",
        "    I_dt = math.e ** (k * t)\n",
        "\n",
        "    func = (eta_c / eta_d) \\\n",
        "         * (1 + gamma * I_ct) / (1 + gamma * I_dt) \\\n",
        "         * ((1 + gamma * eta_c * I_ct * s_c) / (1 + gamma * eta_d * I_dt * (1 - s_c))) ** (-phi - 1) \\\n",
        "         * (A_c / A_d) ** (-phi)\n",
        "\n",
        "    return func"
      ],
      "metadata": {
        "id": "Jl8dyZ_FU0sm"
      },
      "execution_count": null,
      "outputs": []
    },
    {
      "cell_type": "code",
      "source": [
        "# This simulates the equilibrium process and determine the values of variables at equilibrium\n",
        "def simulation_equilibrium(k, num_period, test = False):\n",
        "    # Initialise arrays of different variables, some of which have starting values at t=0\n",
        "    A_c = [A_c0]\n",
        "    A_d = [A_d0]\n",
        "    s_c = []\n",
        "    Y_ratio = []\n",
        "    Y_d = []\n",
        "    C = []\n",
        "    S = [S_0]\n",
        "    temp = []\n",
        "\n",
        "\n",
        "    for t in range(1, num_period + 1):\n",
        "        # Solving for equilibrium scientist allocation\n",
        "        if scientist_allocation_equilibrium(1, A_c[t-1], A_d[t-1], t, k) >= 1:\n",
        "            s_ct = 1\n",
        "        elif scientist_allocation_equilibrium(0, A_c[t-1], A_d[t-1], t, k) <= 1:\n",
        "            s_ct = 0\n",
        "        else:\n",
        "            equation = lambda s_ct: scientist_allocation_equilibrium(s_ct, A_c[t-1], A_d[t-1], t, k) - 1\n",
        "            s_ct = bisect(equation, 0, 1)\n",
        "\n",
        "        # Determining the value of I_jt\n",
        "        I_ct = math.e ** (3 * k * t)\n",
        "        I_dt = math.e ** (k * t)\n",
        "\n",
        "        # Calculating values of relevant variables at time t\n",
        "        A_ct = (1 + gamma * eta_c * I_ct * s_ct) * A_c[-1]\n",
        "        A_dt = (1 + gamma * eta_d * I_dt * (1 - s_ct)) * A_d[-1]\n",
        "\n",
        "        Y_ct = (alpha ** 2 / psi) ** (alpha / (1-alpha)) * (1 / (A_ct ** phi + A_dt ** phi) ** ((alpha + phi) / phi)) * A_ct * A_dt ** (alpha + phi)\n",
        "        Y_dt = (alpha ** 2 / psi) ** (alpha / (1-alpha)) * (1 / (A_ct ** phi + A_dt ** phi) ** ((alpha + phi) / phi)) * A_ct ** (alpha + phi) * A_dt\n",
        "        Y_ratio_t = Y_ct / (Y_ct + max(Y_dt, 0.0000001))\n",
        "\n",
        "        C_t = (alpha ** 2 / psi) ** (alpha / (1-alpha)) * (1 - alpha ** 2) * (A_ct ** phi + A_dt ** phi) ** (-1 / phi) * A_ct * A_dt\n",
        "\n",
        "        S_t = min(max(-xi * Y_dt + (1 + delta) * S[-1], 0.00001), S_bar)\n",
        "        temp_t = 3 * math.log2((CO2_disaster - S_t) / 280)\n",
        "\n",
        "        # Append these values to their arrays\n",
        "        s_c.append(s_ct)\n",
        "        A_c.append(A_ct)\n",
        "        A_d.append(A_dt)\n",
        "        Y_d.append(Y_dt)\n",
        "        Y_ratio.append(Y_ratio_t)\n",
        "        C.append(C_t)\n",
        "        S.append(S_t)\n",
        "        temp.append(temp_t)\n",
        "\n",
        "    if test:\n",
        "        return C[-1]\n",
        "\n",
        "    # Return dictionary containing the arrays, with elements at t=0 removed\n",
        "    return {'A_c': A_c[1:], 'A_d': A_d[1:], 's_c': s_c, 'Y_d': Y_d, 'Y_ratio': Y_ratio, 'C': C, 'S': S, 'temp': temp}"
      ],
      "metadata": {
        "id": "f9i-F0N9B1Cl"
      },
      "execution_count": null,
      "outputs": []
    },
    {
      "cell_type": "code",
      "source": [
        "# Function to plot graph of each variable over time, with the cases of no and with AI plotted together\n",
        "# Optinal to specify whether to use log scale for y-axis (default is No) and the year to plot until (default is plotting all years)\n",
        "def plot_equilibrium(variable, label, log_scale = False):\n",
        "    plt.plot(equilibrium[0][variable], label = 'Acemoglu (\\'24)')\n",
        "    plt.plot(equilibrium[1][variable], label = 'Goldman Sachs (\\'23)')\n",
        "    plt.plot(equilibrium[2][variable], label = 'McKinsey (\\'23)')\n",
        "    plt.plot(equilibrium[3][variable], label = 'Korinek & Suh (\\'24)')\n",
        "\n",
        "    if log_scale:\n",
        "        plt.yscale('log')\n",
        "    else:\n",
        "        plt.yscale('linear')\n",
        "\n",
        "    plt.xlabel('Year')\n",
        "    plt.ylabel(label)\n",
        "\n",
        "    plt.legend()\n",
        "    plt.show()"
      ],
      "metadata": {
        "id": "8bqSxHq7XuRQ"
      },
      "execution_count": null,
      "outputs": []
    },
    {
      "cell_type": "markdown",
      "source": [
        "# Simulation and Graph Plotting"
      ],
      "metadata": {
        "id": "s5mrcHruYj_B"
      }
    },
    {
      "cell_type": "code",
      "source": [
        "C_original = simulation_equilibrium(0, 4, test = True)\n",
        "\n",
        "def find_k(gdp_effect):\n",
        "    equation = lambda k: simulation_equilibrium(k, 4, test = True) - (1 + gdp_effect / 100) * C_original\n",
        "    k = fsolve(equation, x0 = gdp_effect)\n",
        "    return k"
      ],
      "metadata": {
        "id": "1p9F6o1sQ3vx"
      },
      "execution_count": null,
      "outputs": []
    },
    {
      "cell_type": "code",
      "source": [
        "gdp_effect_list = [0.9, 7, 33.2, 64.4]\n",
        "equilibrium = []\n",
        "\n",
        "def main():\n",
        "    for gdp_effect in gdp_effect_list:\n",
        "        k = find_k(gdp_effect)\n",
        "        print(k)\n",
        "        equilibrium.append(simulation_equilibrium(k, 20))\n",
        "\n",
        "main()"
      ],
      "metadata": {
        "id": "myba-V6NxR2w",
        "colab": {
          "base_uri": "https://localhost:8080/",
          "height": 636
        },
        "outputId": "a80ee199-a3af-4e42-c04c-953c1104bb3e"
      },
      "execution_count": null,
      "outputs": [
        {
          "output_type": "stream",
          "name": "stderr",
          "text": [
            "<ipython-input-4-6e6ccc1669d0>:39: DeprecationWarning: Conversion of an array with ndim > 0 to a scalar is deprecated, and will error in future. Ensure you extract a single element from your array before performing this operation. (Deprecated NumPy 1.25.)\n",
            "  temp_t = 3 * math.log2((CO2_disaster - S_t) / 280)\n",
            "/usr/local/lib/python3.10/dist-packages/scipy/optimize/_minpack_py.py:177: RuntimeWarning: The iteration is not making good progress, as measured by the \n",
            "  improvement from the last five Jacobian evaluations.\n",
            "  warnings.warn(msg, RuntimeWarning)\n",
            "<ipython-input-3-874fee8a85be>:9: RuntimeWarning: overflow encountered in power\n",
            "  * (A_c / A_d) ** (-phi)\n",
            "<ipython-input-3-874fee8a85be>:6: RuntimeWarning: overflow encountered in multiply\n",
            "  func = (eta_c / eta_d) \\\n"
          ]
        },
        {
          "output_type": "stream",
          "name": "stdout",
          "text": [
            "[0.2056726]\n",
            "[0.06876494]\n"
          ]
        },
        {
          "output_type": "stream",
          "name": "stderr",
          "text": [
            "<ipython-input-3-874fee8a85be>:8: RuntimeWarning: overflow encountered in power\n",
            "  * ((1 + gamma * eta_c * I_ct * s_c) / (1 + gamma * eta_d * I_dt * (1 - s_c))) ** (-phi - 1) \\\n",
            "<ipython-input-4-6e6ccc1669d0>:29: RuntimeWarning: overflow encountered in multiply\n",
            "  A_ct = (1 + gamma * eta_c * I_ct * s_ct) * A_c[-1]\n",
            "<ipython-input-4-6e6ccc1669d0>:34: RuntimeWarning: invalid value encountered in divide\n",
            "  Y_ratio_t = Y_ct / (Y_ct + max(Y_dt, 0.0000001))\n"
          ]
        },
        {
          "output_type": "error",
          "ename": "ValueError",
          "evalue": "The function value at x=0.0 is NaN; solver cannot continue.",
          "traceback": [
            "\u001b[0;31m---------------------------------------------------------------------------\u001b[0m",
            "\u001b[0;31mValueError\u001b[0m                                Traceback (most recent call last)",
            "\u001b[0;32m<ipython-input-8-b57504047570>\u001b[0m in \u001b[0;36m<cell line: 10>\u001b[0;34m()\u001b[0m\n\u001b[1;32m      8\u001b[0m         \u001b[0mequilibrium\u001b[0m\u001b[0;34m.\u001b[0m\u001b[0mappend\u001b[0m\u001b[0;34m(\u001b[0m\u001b[0msimulation_equilibrium\u001b[0m\u001b[0;34m(\u001b[0m\u001b[0mk\u001b[0m\u001b[0;34m,\u001b[0m \u001b[0;36m20\u001b[0m\u001b[0;34m)\u001b[0m\u001b[0;34m)\u001b[0m\u001b[0;34m\u001b[0m\u001b[0;34m\u001b[0m\u001b[0m\n\u001b[1;32m      9\u001b[0m \u001b[0;34m\u001b[0m\u001b[0m\n\u001b[0;32m---> 10\u001b[0;31m \u001b[0mmain\u001b[0m\u001b[0;34m(\u001b[0m\u001b[0;34m)\u001b[0m\u001b[0;34m\u001b[0m\u001b[0;34m\u001b[0m\u001b[0m\n\u001b[0m",
            "\u001b[0;32m<ipython-input-8-b57504047570>\u001b[0m in \u001b[0;36mmain\u001b[0;34m()\u001b[0m\n\u001b[1;32m      4\u001b[0m \u001b[0;32mdef\u001b[0m \u001b[0mmain\u001b[0m\u001b[0;34m(\u001b[0m\u001b[0;34m)\u001b[0m\u001b[0;34m:\u001b[0m\u001b[0;34m\u001b[0m\u001b[0;34m\u001b[0m\u001b[0m\n\u001b[1;32m      5\u001b[0m     \u001b[0;32mfor\u001b[0m \u001b[0mgdp_effect\u001b[0m \u001b[0;32min\u001b[0m \u001b[0mgdp_effect_list\u001b[0m\u001b[0;34m:\u001b[0m\u001b[0;34m\u001b[0m\u001b[0;34m\u001b[0m\u001b[0m\n\u001b[0;32m----> 6\u001b[0;31m         \u001b[0mk\u001b[0m \u001b[0;34m=\u001b[0m \u001b[0mfind_k\u001b[0m\u001b[0;34m(\u001b[0m\u001b[0mgdp_effect\u001b[0m\u001b[0;34m)\u001b[0m\u001b[0;34m\u001b[0m\u001b[0;34m\u001b[0m\u001b[0m\n\u001b[0m\u001b[1;32m      7\u001b[0m         \u001b[0mprint\u001b[0m\u001b[0;34m(\u001b[0m\u001b[0mk\u001b[0m\u001b[0;34m)\u001b[0m\u001b[0;34m\u001b[0m\u001b[0;34m\u001b[0m\u001b[0m\n\u001b[1;32m      8\u001b[0m         \u001b[0mequilibrium\u001b[0m\u001b[0;34m.\u001b[0m\u001b[0mappend\u001b[0m\u001b[0;34m(\u001b[0m\u001b[0msimulation_equilibrium\u001b[0m\u001b[0;34m(\u001b[0m\u001b[0mk\u001b[0m\u001b[0;34m,\u001b[0m \u001b[0;36m20\u001b[0m\u001b[0;34m)\u001b[0m\u001b[0;34m)\u001b[0m\u001b[0;34m\u001b[0m\u001b[0;34m\u001b[0m\u001b[0m\n",
            "\u001b[0;32m<ipython-input-6-ee5a0cff0aca>\u001b[0m in \u001b[0;36mfind_k\u001b[0;34m(gdp_effect)\u001b[0m\n\u001b[1;32m      3\u001b[0m \u001b[0;32mdef\u001b[0m \u001b[0mfind_k\u001b[0m\u001b[0;34m(\u001b[0m\u001b[0mgdp_effect\u001b[0m\u001b[0;34m)\u001b[0m\u001b[0;34m:\u001b[0m\u001b[0;34m\u001b[0m\u001b[0;34m\u001b[0m\u001b[0m\n\u001b[1;32m      4\u001b[0m     \u001b[0mequation\u001b[0m \u001b[0;34m=\u001b[0m \u001b[0;32mlambda\u001b[0m \u001b[0mk\u001b[0m\u001b[0;34m:\u001b[0m \u001b[0msimulation_equilibrium\u001b[0m\u001b[0;34m(\u001b[0m\u001b[0mk\u001b[0m\u001b[0;34m,\u001b[0m \u001b[0;36m4\u001b[0m\u001b[0;34m,\u001b[0m \u001b[0mtest\u001b[0m \u001b[0;34m=\u001b[0m \u001b[0;32mTrue\u001b[0m\u001b[0;34m)\u001b[0m \u001b[0;34m-\u001b[0m \u001b[0;34m(\u001b[0m\u001b[0;36m1\u001b[0m \u001b[0;34m+\u001b[0m \u001b[0mgdp_effect\u001b[0m \u001b[0;34m/\u001b[0m \u001b[0;36m100\u001b[0m\u001b[0;34m)\u001b[0m \u001b[0;34m*\u001b[0m \u001b[0mC_original\u001b[0m\u001b[0;34m\u001b[0m\u001b[0;34m\u001b[0m\u001b[0m\n\u001b[0;32m----> 5\u001b[0;31m     \u001b[0mk\u001b[0m \u001b[0;34m=\u001b[0m \u001b[0mfsolve\u001b[0m\u001b[0;34m(\u001b[0m\u001b[0mequation\u001b[0m\u001b[0;34m,\u001b[0m \u001b[0mx0\u001b[0m \u001b[0;34m=\u001b[0m \u001b[0mgdp_effect\u001b[0m\u001b[0;34m)\u001b[0m\u001b[0;34m\u001b[0m\u001b[0;34m\u001b[0m\u001b[0m\n\u001b[0m\u001b[1;32m      6\u001b[0m     \u001b[0;32mreturn\u001b[0m \u001b[0mk\u001b[0m\u001b[0;34m\u001b[0m\u001b[0;34m\u001b[0m\u001b[0m\n",
            "\u001b[0;32m/usr/local/lib/python3.10/dist-packages/scipy/optimize/_minpack_py.py\u001b[0m in \u001b[0;36mfsolve\u001b[0;34m(func, x0, args, fprime, full_output, col_deriv, xtol, maxfev, band, epsfcn, factor, diag)\u001b[0m\n\u001b[1;32m    160\u001b[0m                'diag': diag}\n\u001b[1;32m    161\u001b[0m \u001b[0;34m\u001b[0m\u001b[0m\n\u001b[0;32m--> 162\u001b[0;31m     \u001b[0mres\u001b[0m \u001b[0;34m=\u001b[0m \u001b[0m_root_hybr\u001b[0m\u001b[0;34m(\u001b[0m\u001b[0mfunc\u001b[0m\u001b[0;34m,\u001b[0m \u001b[0mx0\u001b[0m\u001b[0;34m,\u001b[0m \u001b[0margs\u001b[0m\u001b[0;34m,\u001b[0m \u001b[0mjac\u001b[0m\u001b[0;34m=\u001b[0m\u001b[0mfprime\u001b[0m\u001b[0;34m,\u001b[0m \u001b[0;34m**\u001b[0m\u001b[0moptions\u001b[0m\u001b[0;34m)\u001b[0m\u001b[0;34m\u001b[0m\u001b[0;34m\u001b[0m\u001b[0m\n\u001b[0m\u001b[1;32m    163\u001b[0m     \u001b[0;32mif\u001b[0m \u001b[0mfull_output\u001b[0m\u001b[0;34m:\u001b[0m\u001b[0;34m\u001b[0m\u001b[0;34m\u001b[0m\u001b[0m\n\u001b[1;32m    164\u001b[0m         \u001b[0mx\u001b[0m \u001b[0;34m=\u001b[0m \u001b[0mres\u001b[0m\u001b[0;34m[\u001b[0m\u001b[0;34m'x'\u001b[0m\u001b[0;34m]\u001b[0m\u001b[0;34m\u001b[0m\u001b[0;34m\u001b[0m\u001b[0m\n",
            "\u001b[0;32m/usr/local/lib/python3.10/dist-packages/scipy/optimize/_minpack_py.py\u001b[0m in \u001b[0;36m_root_hybr\u001b[0;34m(func, x0, args, jac, col_deriv, xtol, maxfev, band, eps, factor, diag, **unknown_options)\u001b[0m\n\u001b[1;32m    237\u001b[0m         \u001b[0;32mif\u001b[0m \u001b[0mmaxfev\u001b[0m \u001b[0;34m==\u001b[0m \u001b[0;36m0\u001b[0m\u001b[0;34m:\u001b[0m\u001b[0;34m\u001b[0m\u001b[0;34m\u001b[0m\u001b[0m\n\u001b[1;32m    238\u001b[0m             \u001b[0mmaxfev\u001b[0m \u001b[0;34m=\u001b[0m \u001b[0;36m200\u001b[0m \u001b[0;34m*\u001b[0m \u001b[0;34m(\u001b[0m\u001b[0mn\u001b[0m \u001b[0;34m+\u001b[0m \u001b[0;36m1\u001b[0m\u001b[0;34m)\u001b[0m\u001b[0;34m\u001b[0m\u001b[0;34m\u001b[0m\u001b[0m\n\u001b[0;32m--> 239\u001b[0;31m         retval = _minpack._hybrd(func, x0, args, 1, xtol, maxfev,\n\u001b[0m\u001b[1;32m    240\u001b[0m                                  ml, mu, epsfcn, factor, diag)\n\u001b[1;32m    241\u001b[0m     \u001b[0;32melse\u001b[0m\u001b[0;34m:\u001b[0m\u001b[0;34m\u001b[0m\u001b[0;34m\u001b[0m\u001b[0m\n",
            "\u001b[0;32m<ipython-input-6-ee5a0cff0aca>\u001b[0m in \u001b[0;36m<lambda>\u001b[0;34m(k)\u001b[0m\n\u001b[1;32m      2\u001b[0m \u001b[0;34m\u001b[0m\u001b[0m\n\u001b[1;32m      3\u001b[0m \u001b[0;32mdef\u001b[0m \u001b[0mfind_k\u001b[0m\u001b[0;34m(\u001b[0m\u001b[0mgdp_effect\u001b[0m\u001b[0;34m)\u001b[0m\u001b[0;34m:\u001b[0m\u001b[0;34m\u001b[0m\u001b[0;34m\u001b[0m\u001b[0m\n\u001b[0;32m----> 4\u001b[0;31m     \u001b[0mequation\u001b[0m \u001b[0;34m=\u001b[0m \u001b[0;32mlambda\u001b[0m \u001b[0mk\u001b[0m\u001b[0;34m:\u001b[0m \u001b[0msimulation_equilibrium\u001b[0m\u001b[0;34m(\u001b[0m\u001b[0mk\u001b[0m\u001b[0;34m,\u001b[0m \u001b[0;36m4\u001b[0m\u001b[0;34m,\u001b[0m \u001b[0mtest\u001b[0m \u001b[0;34m=\u001b[0m \u001b[0;32mTrue\u001b[0m\u001b[0;34m)\u001b[0m \u001b[0;34m-\u001b[0m \u001b[0;34m(\u001b[0m\u001b[0;36m1\u001b[0m \u001b[0;34m+\u001b[0m \u001b[0mgdp_effect\u001b[0m \u001b[0;34m/\u001b[0m \u001b[0;36m100\u001b[0m\u001b[0;34m)\u001b[0m \u001b[0;34m*\u001b[0m \u001b[0mC_original\u001b[0m\u001b[0;34m\u001b[0m\u001b[0;34m\u001b[0m\u001b[0m\n\u001b[0m\u001b[1;32m      5\u001b[0m     \u001b[0mk\u001b[0m \u001b[0;34m=\u001b[0m \u001b[0mfsolve\u001b[0m\u001b[0;34m(\u001b[0m\u001b[0mequation\u001b[0m\u001b[0;34m,\u001b[0m \u001b[0mx0\u001b[0m \u001b[0;34m=\u001b[0m \u001b[0mgdp_effect\u001b[0m\u001b[0;34m)\u001b[0m\u001b[0;34m\u001b[0m\u001b[0;34m\u001b[0m\u001b[0m\n\u001b[1;32m      6\u001b[0m     \u001b[0;32mreturn\u001b[0m \u001b[0mk\u001b[0m\u001b[0;34m\u001b[0m\u001b[0;34m\u001b[0m\u001b[0m\n",
            "\u001b[0;32m<ipython-input-4-6e6ccc1669d0>\u001b[0m in \u001b[0;36msimulation_equilibrium\u001b[0;34m(k, num_period, test)\u001b[0m\n\u001b[1;32m     20\u001b[0m         \u001b[0;32melse\u001b[0m\u001b[0;34m:\u001b[0m\u001b[0;34m\u001b[0m\u001b[0;34m\u001b[0m\u001b[0m\n\u001b[1;32m     21\u001b[0m             \u001b[0mequation\u001b[0m \u001b[0;34m=\u001b[0m \u001b[0;32mlambda\u001b[0m \u001b[0ms_ct\u001b[0m\u001b[0;34m:\u001b[0m \u001b[0mscientist_allocation_equilibrium\u001b[0m\u001b[0;34m(\u001b[0m\u001b[0ms_ct\u001b[0m\u001b[0;34m,\u001b[0m \u001b[0mA_c\u001b[0m\u001b[0;34m[\u001b[0m\u001b[0mt\u001b[0m\u001b[0;34m-\u001b[0m\u001b[0;36m1\u001b[0m\u001b[0;34m]\u001b[0m\u001b[0;34m,\u001b[0m \u001b[0mA_d\u001b[0m\u001b[0;34m[\u001b[0m\u001b[0mt\u001b[0m\u001b[0;34m-\u001b[0m\u001b[0;36m1\u001b[0m\u001b[0;34m]\u001b[0m\u001b[0;34m,\u001b[0m \u001b[0mt\u001b[0m\u001b[0;34m,\u001b[0m \u001b[0mk\u001b[0m\u001b[0;34m)\u001b[0m \u001b[0;34m-\u001b[0m \u001b[0;36m1\u001b[0m\u001b[0;34m\u001b[0m\u001b[0;34m\u001b[0m\u001b[0m\n\u001b[0;32m---> 22\u001b[0;31m             \u001b[0ms_ct\u001b[0m \u001b[0;34m=\u001b[0m \u001b[0mbisect\u001b[0m\u001b[0;34m(\u001b[0m\u001b[0mequation\u001b[0m\u001b[0;34m,\u001b[0m \u001b[0;36m0\u001b[0m\u001b[0;34m,\u001b[0m \u001b[0;36m1\u001b[0m\u001b[0;34m)\u001b[0m\u001b[0;34m\u001b[0m\u001b[0;34m\u001b[0m\u001b[0m\n\u001b[0m\u001b[1;32m     23\u001b[0m \u001b[0;34m\u001b[0m\u001b[0m\n\u001b[1;32m     24\u001b[0m         \u001b[0;31m# Determining the value of I_jt\u001b[0m\u001b[0;34m\u001b[0m\u001b[0;34m\u001b[0m\u001b[0m\n",
            "\u001b[0;32m/usr/local/lib/python3.10/dist-packages/scipy/optimize/_zeros_py.py\u001b[0m in \u001b[0;36mbisect\u001b[0;34m(f, a, b, args, xtol, rtol, maxiter, full_output, disp)\u001b[0m\n\u001b[1;32m    571\u001b[0m         \u001b[0;32mraise\u001b[0m \u001b[0mValueError\u001b[0m\u001b[0;34m(\u001b[0m\u001b[0;34mf\"rtol too small ({rtol:g} < {_rtol:g})\"\u001b[0m\u001b[0;34m)\u001b[0m\u001b[0;34m\u001b[0m\u001b[0;34m\u001b[0m\u001b[0m\n\u001b[1;32m    572\u001b[0m     \u001b[0mf\u001b[0m \u001b[0;34m=\u001b[0m \u001b[0m_wrap_nan_raise\u001b[0m\u001b[0;34m(\u001b[0m\u001b[0mf\u001b[0m\u001b[0;34m)\u001b[0m\u001b[0;34m\u001b[0m\u001b[0;34m\u001b[0m\u001b[0m\n\u001b[0;32m--> 573\u001b[0;31m     \u001b[0mr\u001b[0m \u001b[0;34m=\u001b[0m \u001b[0m_zeros\u001b[0m\u001b[0;34m.\u001b[0m\u001b[0m_bisect\u001b[0m\u001b[0;34m(\u001b[0m\u001b[0mf\u001b[0m\u001b[0;34m,\u001b[0m \u001b[0ma\u001b[0m\u001b[0;34m,\u001b[0m \u001b[0mb\u001b[0m\u001b[0;34m,\u001b[0m \u001b[0mxtol\u001b[0m\u001b[0;34m,\u001b[0m \u001b[0mrtol\u001b[0m\u001b[0;34m,\u001b[0m \u001b[0mmaxiter\u001b[0m\u001b[0;34m,\u001b[0m \u001b[0margs\u001b[0m\u001b[0;34m,\u001b[0m \u001b[0mfull_output\u001b[0m\u001b[0;34m,\u001b[0m \u001b[0mdisp\u001b[0m\u001b[0;34m)\u001b[0m\u001b[0;34m\u001b[0m\u001b[0;34m\u001b[0m\u001b[0m\n\u001b[0m\u001b[1;32m    574\u001b[0m     \u001b[0;32mreturn\u001b[0m \u001b[0mresults_c\u001b[0m\u001b[0;34m(\u001b[0m\u001b[0mfull_output\u001b[0m\u001b[0;34m,\u001b[0m \u001b[0mr\u001b[0m\u001b[0;34m)\u001b[0m\u001b[0;34m\u001b[0m\u001b[0;34m\u001b[0m\u001b[0m\n\u001b[1;32m    575\u001b[0m \u001b[0;34m\u001b[0m\u001b[0m\n",
            "\u001b[0;32m/usr/local/lib/python3.10/dist-packages/scipy/optimize/_zeros_py.py\u001b[0m in \u001b[0;36mf_raise\u001b[0;34m(x, *args)\u001b[0m\n\u001b[1;32m     96\u001b[0m             \u001b[0merr\u001b[0m\u001b[0;34m.\u001b[0m\u001b[0m_x\u001b[0m \u001b[0;34m=\u001b[0m \u001b[0mx\u001b[0m\u001b[0;34m\u001b[0m\u001b[0;34m\u001b[0m\u001b[0m\n\u001b[1;32m     97\u001b[0m             \u001b[0merr\u001b[0m\u001b[0;34m.\u001b[0m\u001b[0m_function_calls\u001b[0m \u001b[0;34m=\u001b[0m \u001b[0mf_raise\u001b[0m\u001b[0;34m.\u001b[0m\u001b[0m_function_calls\u001b[0m\u001b[0;34m\u001b[0m\u001b[0;34m\u001b[0m\u001b[0m\n\u001b[0;32m---> 98\u001b[0;31m             \u001b[0;32mraise\u001b[0m \u001b[0merr\u001b[0m\u001b[0;34m\u001b[0m\u001b[0;34m\u001b[0m\u001b[0m\n\u001b[0m\u001b[1;32m     99\u001b[0m         \u001b[0;32mreturn\u001b[0m \u001b[0mfx\u001b[0m\u001b[0;34m\u001b[0m\u001b[0;34m\u001b[0m\u001b[0m\n\u001b[1;32m    100\u001b[0m \u001b[0;34m\u001b[0m\u001b[0m\n",
            "\u001b[0;31mValueError\u001b[0m: The function value at x=0.0 is NaN; solver cannot continue."
          ]
        }
      ]
    },
    {
      "cell_type": "code",
      "source": [
        "plot_equilibrium('C', 'Total consumption', log_scale = True)"
      ],
      "metadata": {
        "id": "p8oga2bzTrtg"
      },
      "execution_count": null,
      "outputs": []
    },
    {
      "cell_type": "code",
      "source": [
        "# Plotting variables\n",
        "#plot_equilibrium('s_c', 'Proportion of scientists in the new sector')\n",
        "#plot_equilibrium('Y_d', 'Production of old input')\n",
        "#plot_equilibrium('Y_ratio', 'Proportion of new input production in total production', end_year = 150)\n",
        "#plot_equilibrium('C', 'Total consumption', log_scale = True, end_year = 150)\n",
        "#plot_equilibrium('S', 'Quality of the environment')\n",
        "#plot_equilibrium('temp', 'Increase in temperature')"
      ],
      "metadata": {
        "id": "sA-omJH36ZcK"
      },
      "execution_count": null,
      "outputs": []
    }
  ]
}